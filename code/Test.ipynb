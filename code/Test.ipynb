{
 "cells": [
  {
   "cell_type": "code",
   "execution_count": 4,
   "metadata": {},
   "outputs": [
    {
     "name": "stdout",
     "output_type": "stream",
     "text": [
      "[[0.9833 0.9083 0.8917 0.8917 0.85   0.8417 0.7917 0.7667 0.7417 0.6833]\n",
      " [0.9833 0.9083 0.9    0.8833 0.85   0.825  0.8083 0.7583 0.725  0.7083]\n",
      " [0.9833 0.9083 0.8917 0.8667 0.8167 0.8167 0.8167 0.75   0.7083 0.6833]\n",
      " [0.975  0.9    0.8833 0.85   0.8167 0.8167 0.8    0.7583 0.7167 0.6917]\n",
      " [0.9833 0.8917 0.875  0.85   0.8167 0.8167 0.8    0.725  0.7083 0.6833]\n",
      " [0.9833 0.9    0.8917 0.8583 0.825  0.825  0.7917 0.725  0.7083 0.675 ]\n",
      " [0.9833 0.9    0.8833 0.8583 0.825  0.825  0.7917 0.7333 0.7083 0.6833]\n",
      " [0.9833 0.9    0.8833 0.8583 0.8333 0.8167 0.7917 0.7333 0.7167 0.6917]]\n"
     ]
    }
   ],
   "source": [
    "import os\n",
    "import numpy as np\n",
    "from PIL import Image\n",
    "from sklearn.decomposition import PCA\n",
    "import matplotlib.pyplot as plt\n",
    "from sklearn.model_selection import train_test_split\n",
    "from sklearn.neighbors import KNeighborsClassifier\n",
    "\n",
    "def load_data():\n",
    "    data = []\n",
    "    label = []\n",
    "    for i in range(1, 41):\n",
    "        for j in range(1, 11):\n",
    "            img_path = f\"./data/ORL人脸数据库/s{i}/{j}.bmp\"\n",
    "            img = np.array(Image.open(img_path))\n",
    "            data.append(img.flatten())\n",
    "            label.append(i)\n",
    "            \n",
    "    return np.array(data), np.array(label)    \n",
    "\n",
    "\n",
    "def train(X_train, y_train, n_neighbors):\n",
    "    knn = KNeighborsClassifier(n_neighbors=n_neighbors)\n",
    "    knn.fit(X_train, y_train)\n",
    "    return knn\n",
    "\n",
    "def test(knn, X_test, y_test):\n",
    "    score = knn.score(X_test, y_test)\n",
    "    return score\n",
    "\n",
    "\n",
    "all_data, all_label = load_data()\n",
    "n_components = [25, 50, 100, 150, 200, 250, 300, 350]\n",
    "K = [1, 2, 3 ,4 ,5, 6, 7 ,8, 9, 10]\n",
    "test_accuracy = []\n",
    "for c in n_components:\n",
    "    \n",
    "    pca = PCA(n_components=c)\n",
    "    pca.fit(all_data)\n",
    "    reduced_data = pca.transform(all_data)\n",
    "\n",
    "    X_train, X_test, y_train, y_test = train_test_split(reduced_data, \n",
    "                                                        all_label, \n",
    "                                                        test_size=0.3, random_state=42)\n",
    "    \n",
    "    for k in K:\n",
    "        knn = train(X_train, y_train, k)\n",
    "        score = test(knn, X_test, y_test)\n",
    "        test_accuracy.append(score)\n",
    "\n",
    "test_accuracy = np.around(np.array(test_accuracy), decimals=4)\n",
    "test_accuracy = test_accuracy.reshape((-1, len(K)))\n",
    "print(test_accuracy)    \n",
    "    "
   ]
  },
  {
   "cell_type": "code",
   "execution_count": 5,
   "metadata": {},
   "outputs": [
    {
     "name": "stdout",
     "output_type": "stream",
     "text": [
      "[[0.9375 0.8562 0.8562 0.8312 0.8125 0.7812 0.7375 0.7    0.6562 0.6375]\n",
      " [0.9562 0.8812 0.8688 0.85   0.8188 0.7688 0.7188 0.6875 0.675  0.6438]\n",
      " [0.9438 0.8688 0.8625 0.825  0.8    0.7438 0.6938 0.6375 0.65   0.6125]\n",
      " [0.9375 0.8562 0.8625 0.8125 0.8    0.75   0.6938 0.65   0.65   0.625 ]\n",
      " [0.9312 0.8562 0.8562 0.8062 0.7875 0.7562 0.6938 0.65   0.6438 0.6062]\n",
      " [0.9312 0.85   0.85   0.8062 0.8062 0.7562 0.675  0.6438 0.65   0.6062]\n",
      " [0.9312 0.85   0.85   0.8125 0.7875 0.7562 0.6938 0.6438 0.6438 0.6   ]\n",
      " [0.9375 0.8562 0.8438 0.8125 0.8    0.7562 0.6938 0.65   0.65   0.6188]]\n"
     ]
    }
   ],
   "source": [
    "n_components = [25, 50, 100, 150, 200, 250, 300, 350]\n",
    "K = [1, 2, 3 ,4 ,5, 6, 7 ,8, 9, 10]\n",
    "test_accuracy = []\n",
    "for c in n_components:\n",
    "    \n",
    "    pca = PCA(n_components=c)\n",
    "    pca.fit(all_data)\n",
    "    reduced_data = pca.transform(all_data)\n",
    "\n",
    "    X_train, X_test, y_train, y_test = train_test_split(reduced_data, \n",
    "                                                        all_label, \n",
    "                                                        test_size=0.4, random_state=42)\n",
    "    \n",
    "    for k in K:\n",
    "        knn = train(X_train, y_train, k)\n",
    "        score = test(knn, X_test, y_test)\n",
    "        test_accuracy.append(score)\n",
    "\n",
    "test_accuracy = np.around(np.array(test_accuracy), decimals=4)\n",
    "test_accuracy = test_accuracy.reshape((-1, len(K)))\n",
    "print(test_accuracy)"
   ]
  },
  {
   "cell_type": "code",
   "execution_count": 6,
   "metadata": {},
   "outputs": [
    {
     "name": "stdout",
     "output_type": "stream",
     "text": [
      "[[0.92  0.825 0.825 0.795 0.765 0.715 0.69  0.645 0.625 0.595]\n",
      " [0.92  0.84  0.845 0.805 0.795 0.68  0.66  0.64  0.65  0.605]\n",
      " [0.915 0.845 0.84  0.785 0.765 0.675 0.635 0.6   0.605 0.585]\n",
      " [0.92  0.825 0.825 0.775 0.76  0.68  0.635 0.575 0.57  0.55 ]\n",
      " [0.915 0.83  0.825 0.76  0.74  0.68  0.63  0.58  0.535 0.5  ]\n",
      " [0.91  0.825 0.805 0.77  0.745 0.67  0.635 0.555 0.535 0.505]\n",
      " [0.91  0.82  0.805 0.775 0.745 0.665 0.625 0.55  0.545 0.505]\n",
      " [0.915 0.825 0.81  0.77  0.75  0.675 0.625 0.555 0.545 0.51 ]]\n"
     ]
    }
   ],
   "source": [
    "n_components = [25, 50, 100, 150, 200, 250, 300, 350]\n",
    "K = [1, 2, 3 ,4 ,5, 6, 7 ,8, 9, 10]\n",
    "test_accuracy = []\n",
    "for c in n_components:\n",
    "    \n",
    "    pca = PCA(n_components=c)\n",
    "    pca.fit(all_data)\n",
    "    reduced_data = pca.transform(all_data)\n",
    "\n",
    "    X_train, X_test, y_train, y_test = train_test_split(reduced_data, \n",
    "                                                        all_label, \n",
    "                                                        test_size=0.5, random_state=42)\n",
    "    \n",
    "    for k in K:\n",
    "        knn = train(X_train, y_train, k)\n",
    "        score = test(knn, X_test, y_test)\n",
    "        test_accuracy.append(score)\n",
    "\n",
    "test_accuracy = np.around(np.array(test_accuracy), decimals=4)\n",
    "test_accuracy = test_accuracy.reshape((-1, len(K)))\n",
    "print(test_accuracy)"
   ]
  }
 ],
 "metadata": {
  "kernelspec": {
   "display_name": "Python 3",
   "language": "python",
   "name": "python3"
  },
  "language_info": {
   "codemirror_mode": {
    "name": "ipython",
    "version": 3
   },
   "file_extension": ".py",
   "mimetype": "text/x-python",
   "name": "python",
   "nbconvert_exporter": "python",
   "pygments_lexer": "ipython3",
   "version": "3.10.11"
  }
 },
 "nbformat": 4,
 "nbformat_minor": 2
}
